{
 "cells": [
  {
   "cell_type": "code",
   "execution_count": 2,
   "id": "693c14f7-f93e-4cdd-9274-53176de8b9f3",
   "metadata": {},
   "outputs": [
    {
     "name": "stdout",
     "output_type": "stream",
     "text": [
      "              precision    recall  f1-score   support\n",
      "\n",
      "    politics       0.84      0.77      0.80       649\n",
      "    religion       0.88      0.74      0.81       611\n",
      "     science       0.84      0.74      0.79       985\n",
      "       sport       0.88      0.89      0.88       993\n",
      "  technology       0.80      0.97      0.87      1230\n",
      "\n",
      "    accuracy                           0.84      4468\n",
      "   macro avg       0.85      0.82      0.83      4468\n",
      "weighted avg       0.84      0.84      0.84      4468\n",
      "\n",
      "[[ 497   34   39   46   33]\n",
      " [  58  453   40   24   36]\n",
      " [  25   14  733   45  168]\n",
      " [   8    7   30  884   64]\n",
      " [   3    4   27    8 1188]]\n"
     ]
    }
   ],
   "source": [
    "from sklearn.datasets import fetch_20newsgroups\n",
    "from sklearn.feature_extraction.text import TfidfVectorizer\n",
    "from sklearn.model_selection import train_test_split\n",
    "from sklearn.naive_bayes import MultinomialNB\n",
    "from sklearn.pipeline import make_pipeline\n",
    "from sklearn.metrics import classification_report, confusion_matrix\n",
    "import pandas as pd\n",
    "\n",
    "# Initial System Implementation\n",
    "# fetch_20newsgroups includes news articles where the articles have been classified.\n",
    "# We are going to treat the News Article like Emails, the principles in terms of Multi Class Classification are the same\n",
    "# First we will map the individual labels into top level categories\n",
    "# We then train a classifier to predict/assign a single top-level Category\n",
    "\n",
    "# This provides us with a fully working example of the initial multi-class classification system suggested in the CA Brief\n",
    "\n",
    "# The second step will be to implement Chained Multi-outputs multi-label classification system:\n",
    "\n",
    "# Define category mapping\n",
    "category_mapping = {\n",
    "    'comp.graphics': 'technology',\n",
    "    'comp.os.ms-windows.misc': 'technology',\n",
    "    'comp.sys.ibm.pc.hardware': 'technology',\n",
    "    'comp.sys.mac.hardware': 'technology',\n",
    "    'comp.windows.x': 'technology',\n",
    "    'sci.crypt': 'science',\n",
    "    'sci.electronics': 'science',\n",
    "    'sci.med': 'science',\n",
    "    'sci.space': 'science',\n",
    "    'rec.autos': 'sport',\n",
    "    'rec.motorcycles': 'sport',\n",
    "    'rec.sport.baseball': 'sport',\n",
    "    'rec.sport.hockey': 'sport',\n",
    "    'talk.politics.guns': 'politics',\n",
    "    'talk.politics.mideast': 'politics',\n",
    "    'talk.politics.misc': 'politics',\n",
    "    'alt.atheism': 'religion',\n",
    "    'soc.religion.christian': 'religion',\n",
    "    'talk.religion.misc': 'religion'\n",
    "}\n",
    "\n",
    "# Load dataset\n",
    "data = fetch_20newsgroups(subset='all', categories=category_mapping.keys(), remove=('headers', 'footers', 'quotes'))\n",
    "\n",
    "# Map the original target labels to new labels\n",
    "new_targets = [category_mapping[data.target_names[target]] for target in data.target]\n",
    "\n",
    "# Split dataset\n",
    "X_train, X_test, y_train, y_test = train_test_split(data.data, new_targets, test_size=0.25, random_state=42)\n",
    "\n",
    "# Vectorize text data\n",
    "vectorizer = TfidfVectorizer(stop_words='english', max_features=10000)\n",
    "X_train_transformed = vectorizer.fit_transform(X_train)\n",
    "X_test_transformed = vectorizer.transform(X_test)\n",
    "\n",
    "# Train classifier\n",
    "model = MultinomialNB()\n",
    "model.fit(X_train_transformed, y_train)\n",
    "\n",
    "# Predict and evaluate\n",
    "y_pred = model.predict(X_test_transformed)\n",
    "print(classification_report(y_test, y_pred))\n",
    "print(confusion_matrix(y_test, y_pred))"
   ]
  },
  {
   "cell_type": "code",
   "execution_count": 3,
   "id": "177fa363-d078-4d49-a8e2-4651a98e2ecd",
   "metadata": {},
   "outputs": [
    {
     "name": "stdout",
     "output_type": "stream",
     "text": [
      "                                                text   original_category  \\\n",
      "0  \\nA(>  Can anyone tell me if a bloodcount of 4...             sci.med   \n",
      "1                                                 \\n    rec.sport.hockey   \n",
      "2  \\n\\n  Currently, there is a bill before the Te...  talk.politics.guns   \n",
      "3  \\n    Nationwide, the immunization rate among ...  talk.politics.misc   \n",
      "4  \\n\\n\\nWell then given your definition of \"best...  rec.sport.baseball   \n",
      "\n",
      "  mapped_category  \n",
      "0         science  \n",
      "1           sport  \n",
      "2        politics  \n",
      "3        politics  \n",
      "4           sport  \n"
     ]
    }
   ],
   "source": [
    "# Map the original target labels to new labels\n",
    "mapped_labels = [category_mapping[data.target_names[target]] for target in data.target]\n",
    "original_labels = [data.target_names[target] for target in data.target]  # Get original labels\n",
    "\n",
    "# Create a DataFrame\n",
    "df = pd.DataFrame({\n",
    "    'text': data.data,\n",
    "    'original_category': original_labels,\n",
    "    'mapped_category': mapped_labels\n",
    "})\n",
    "\n",
    "# Save the DataFrame to a CSV file\n",
    "df.to_csv('mapped_newsgroups_with_original.csv', index=False)\n",
    "\n",
    "# Optionally print the head of the DataFrame to verify\n",
    "print(df.head())\n"
   ]
  },
  {
   "cell_type": "code",
   "execution_count": null,
   "id": "607b13e1-981b-4ad9-a54a-8ef1f7ea93a7",
   "metadata": {},
   "outputs": [],
   "source": [
    "# Implement a Chained Multi-outputs multi-label classification system\n",
    "\n"
   ]
  }
 ],
 "metadata": {
  "kernelspec": {
   "display_name": "Python 3 (ipykernel)",
   "language": "python",
   "name": "python3"
  },
  "language_info": {
   "codemirror_mode": {
    "name": "ipython",
    "version": 3
   },
   "file_extension": ".py",
   "mimetype": "text/x-python",
   "name": "python",
   "nbconvert_exporter": "python",
   "pygments_lexer": "ipython3",
   "version": "3.11.7"
  }
 },
 "nbformat": 4,
 "nbformat_minor": 5
}
